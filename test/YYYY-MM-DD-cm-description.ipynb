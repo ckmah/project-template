{
 "cells": [
  {
   "cell_type": "markdown",
   "metadata": {},
   "source": [
    "# Analysis Overview\n",
    "\n",
    "State the hypothesis/main goal of this notebook.\n",
    "\n",
    "#### Background\n",
    "\n",
    "\n",
    "#### Hypothesis\n",
    "\"Synthetic\" bulk RNA-seq samples represent heterogeneity within the tumor sample.\n",
    "\n",
    "#### Approach\n",
    "1. dimensional reduction\n",
    "2. clustering\n",
    "3. collapse clusters into \"synthetic\" samples\n",
    "\n",
    "#### Dead-ends\n",
    "\n",
    "#### Results"
   ]
  },
  {
   "cell_type": "markdown",
   "metadata": {},
   "source": [
    "# Notebook Setup"
   ]
  },
  {
   "cell_type": "code",
   "execution_count": 3,
   "metadata": {
    "ExecuteTime": {
     "end_time": "2017-05-16T21:51:01.605198Z",
     "start_time": "2017-05-16T21:51:01.503570Z"
    }
   },
   "outputs": [
    {
     "name": "stdout",
     "output_type": "stream",
     "text": [
      "The autoreload extension is already loaded. To reload it, use:\n",
      "  %reload_ext autoreload\n",
      "The version_information extension is already loaded. To reload it, use:\n",
      "  %reload_ext version_information\n"
     ]
    },
    {
     "data": {
      "application/json": {
       "Software versions": [
        {
         "module": "Python",
         "version": "3.5.3 64bit [GCC 4.2.1 Compatible Apple LLVM 6.0 (clang-600.0.57)]"
        },
        {
         "module": "IPython",
         "version": "6.0.0"
        },
        {
         "module": "OS",
         "version": "Darwin 16.3.0 x86_64 i386 64bit"
        }
       ]
      },
      "text/html": [
       "<table><tr><th>Software</th><th>Version</th></tr><tr><td>Python</td><td>3.5.3 64bit [GCC 4.2.1 Compatible Apple LLVM 6.0 (clang-600.0.57)]</td></tr><tr><td>IPython</td><td>6.0.0</td></tr><tr><td>OS</td><td>Darwin 16.3.0 x86_64 i386 64bit</td></tr><tr><td colspan='2'>Tue May 16 14:51:01 2017 PDT</td></tr></table>"
      ],
      "text/latex": [
       "\\begin{tabular}{|l|l|}\\hline\n",
       "{\\bf Software} & {\\bf Version} \\\\ \\hline\\hline\n",
       "Python & 3.5.3 64bit [GCC 4.2.1 Compatible Apple LLVM 6.0 (clang-600.0.57)] \\\\ \\hline\n",
       "IPython & 6.0.0 \\\\ \\hline\n",
       "OS & Darwin 16.3.0 x86\\_64 i386 64bit \\\\ \\hline\n",
       "\\hline \\multicolumn{2}{|l|}{Tue May 16 14:51:01 2017 PDT} \\\\ \\hline\n",
       "\\end{tabular}\n"
      ],
      "text/plain": [
       "Software versions\n",
       "Python 3.5.3 64bit [GCC 4.2.1 Compatible Apple LLVM 6.0 (clang-600.0.57)]\n",
       "IPython 6.0.0\n",
       "OS Darwin 16.3.0 x86_64 i386 64bit\n",
       "Tue May 16 14:51:01 2017 PDT"
      ]
     },
     "execution_count": 3,
     "metadata": {},
     "output_type": "execute_result"
    }
   ],
   "source": [
    "%matplotlib inline\n",
    "\n",
    "%load_ext autoreload\n",
    "%autoreload 2\n",
    "\n",
    "%load_ext version_information"
   ]
  },
  {
   "cell_type": "code",
   "execution_count": 1,
   "metadata": {
    "ExecuteTime": {
     "end_time": "2017-05-16T21:56:01.017102Z",
     "start_time": "2017-05-16T21:56:00.961371Z"
    }
   },
   "outputs": [
    {
     "name": "stdout",
     "output_type": "stream",
     "text": [
      "[2017-05-24 14:37:33] Trying to install (rpy2, biopython, plotly) ...\n"
     ]
    }
   ],
   "source": [
    "import warnings\n",
    "import sys\n",
    "import os\n",
    "\n",
    "import ipywidgets as widgets\n",
    "from ipywidgets import interactive, Layout, HTML\n",
    "from IPython.display import display, Image\n",
    "\n",
    "from jupyterthemes import jtplot\n",
    "\n",
    "import matplotlib as mpl\n",
    "import matplotlib.pyplot as plt\n",
    "from matplotlib import gridspec\n",
    "\n",
    "import numpy as np\n",
    "import pandas as pd\n",
    "import seaborn as sns\n",
    "\n",
    "from plotly.offline import init_notebook_mode\n",
    "from plotly import plotly as py\n",
    "from plotly import graph_objs as go\n",
    "import cufflinks as cf\n",
    "\n",
    "sys.path.append('../scripts/')\n",
    "import helper\n",
    "\n",
    "sys.path.append('/Users/ckmah/ccal')\n",
    "import ccal"
   ]
  },
  {
   "cell_type": "code",
   "execution_count": null,
   "metadata": {
    "collapsed": true
   },
   "outputs": [],
   "source": [
    "%version_information matplotlib,numpy,pandas,seaborn,jupyterthemes,rpy2,biopython,plotly,cufflinks,statsmodels,ipywidgets"
   ]
  },
  {
   "cell_type": "code",
   "execution_count": 9,
   "metadata": {
    "ExecuteTime": {
     "end_time": "2017-05-16T21:56:02.111079Z",
     "start_time": "2017-05-16T21:56:02.039940Z"
    },
    "collapsed": true
   },
   "outputs": [],
   "source": [
    "warnings.filterwarnings('ignore')\n",
    "\n",
    "jtplot.style()\n",
    "plt.rcParams['figure.figsize'] = (12,12)\n",
    "init_notebook_mode()\n",
    "cf.go_offline()\n",
    "\n",
    "%config InlineBackend.figure_format='retina'"
   ]
  },
  {
   "cell_type": "markdown",
   "metadata": {},
   "source": [
    "# Analysis"
   ]
  }
 ],
 "metadata": {
  "hide_input": false,
  "kernelspec": {
   "display_name": "Python 3",
   "language": "python",
   "name": "python3"
  },
  "language_info": {
   "codemirror_mode": {
    "name": "ipython",
    "version": 3
   },
   "file_extension": ".py",
   "mimetype": "text/x-python",
   "name": "python",
   "nbconvert_exporter": "python",
   "pygments_lexer": "ipython3",
   "version": "3.6.1"
  },
  "varInspector": {
   "cols": {
    "lenName": 16,
    "lenType": 16,
    "lenVar": 40
   },
   "kernels_config": {
    "python": {
     "delete_cmd_postfix": "",
     "delete_cmd_prefix": "del ",
     "library": "var_list.py",
     "varRefreshCmd": "print(var_dic_list())"
    },
    "r": {
     "delete_cmd_postfix": ") ",
     "delete_cmd_prefix": "rm(",
     "library": "var_list.r",
     "varRefreshCmd": "cat(var_dic_list()) "
    }
   },
   "types_to_exclude": [
    "module",
    "function",
    "builtin_function_or_method",
    "instance",
    "_Feature"
   ],
   "window_display": false
  }
 },
 "nbformat": 4,
 "nbformat_minor": 2
}
